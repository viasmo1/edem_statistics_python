{
  "nbformat": 4,
  "nbformat_minor": 0,
  "metadata": {
    "colab": {
      "name": "SF Crime Analysis.ipynb",
      "provenance": [],
      "collapsed_sections": []
    },
    "kernelspec": {
      "name": "Python 3.8.3 64-bit ('base': conda)",
      "display_name": "Python 3.8.3 64-bit ('base': conda)",
      "metadata": {
        "interpreter": {
          "hash": "2a54a2701b7e9965d702cb58f6bdf61e5d02d804dbcbb84ef1224da2d89c57d4"
        }
      }
    }
  },
  "cells": [
    {
      "cell_type": "markdown",
      "metadata": {
        "id": "HbYCL34IT8Wu"
      },
      "source": [
        "# **SF Crime Analysis**\n",
        "\n",
        "En este colab analizamos el dataset SF Crime Dataset."
      ]
    },
    {
      "cell_type": "markdown",
      "metadata": {
        "id": "FhMKsRSAdmkd"
      },
      "source": [
        "### Descripción de la naturaleza y el origen del dataset\n",
        "\n",
        "Se trata de un dataset extraído de [kaggle.com](https://www.kaggle.com). Se puede acceder al mismo en este [link](https://www.kaggle.com/roshansharma/sanfranciso-crime-dataset)"
      ]
    },
    {
      "cell_type": "markdown",
      "metadata": {
        "id": "FdFth3MTdmke"
      },
      "source": [
        "## Análisis\n",
        "\n",
        "#### Importar librerias"
      ]
    },
    {
      "cell_type": "code",
      "metadata": {
        "id": "4w2BfTZAUXiq"
      },
      "source": [
        "import os\n",
        "import pandas as pd\n",
        "import numpy as np\n",
        "import matplotlib.pyplot as plt"
      ],
      "execution_count": null,
      "outputs": []
    },
    {
      "cell_type": "markdown",
      "metadata": {
        "id": "m1ludHVGUjhd"
      },
      "source": [
        "#### Cargar dataset"
      ]
    },
    {
      "cell_type": "code",
      "metadata": {
        "id": "myMKLEirUl9E"
      },
      "source": [
        "sf_crime = pd.read_csv(\"https://raw.githubusercontent.com/viasmo1/edem_statistics_python/main/Police_Department_Incidents_-_Previous_Year__2016.csv\")\n",
        "sf_crime"
      ],
      "execution_count": null,
      "outputs": []
    },
    {
      "cell_type": "markdown",
      "metadata": {
        "id": "GKs110Pwdmks"
      },
      "source": [
        "#### Columns"
      ]
    },
    {
      "cell_type": "code",
      "metadata": {
        "id": "CDKUk8R0dmks"
      },
      "source": [
        "sf_crime.columns"
      ],
      "execution_count": null,
      "outputs": []
    },
    {
      "cell_type": "markdown",
      "metadata": {
        "id": "W5ZeQaqheEeg"
      },
      "source": [
        "#### Shape, head, tail"
      ]
    },
    {
      "cell_type": "code",
      "metadata": {
        "id": "3nFLR3N0eKfV"
      },
      "source": [
        "sf_crime.shape"
      ],
      "execution_count": null,
      "outputs": []
    },
    {
      "cell_type": "code",
      "metadata": {
        "id": "ck9fM8nletNQ"
      },
      "source": [
        "sf_crime.head(5)"
      ],
      "execution_count": null,
      "outputs": []
    },
    {
      "cell_type": "code",
      "metadata": {
        "id": "Y2jvNodhetW8"
      },
      "source": [
        "sf_crime.tail(5)"
      ],
      "execution_count": null,
      "outputs": []
    }
  ]
}