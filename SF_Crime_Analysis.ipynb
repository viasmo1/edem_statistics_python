{
  "nbformat": 4,
  "nbformat_minor": 0,
  "metadata": {
    "colab": {
      "name": "SF Crime Analysis.ipynb",
      "provenance": [],
      "collapsed_sections": [],
      "authorship_tag": "ABX9TyNrcujtxMz54Y/WGduyt4ae",
      "include_colab_link": true
    },
    "kernelspec": {
      "name": "python3",
      "display_name": "Python 3"
    }
  },
  "cells": [
    {
      "cell_type": "markdown",
      "metadata": {
        "id": "view-in-github",
        "colab_type": "text"
      },
      "source": [
        "<a href=\"https://colab.research.google.com/github/viasmo1/edem_statistics_python/blob/main/SF_Crime_Analysis.ipynb\" target=\"_parent\"><img src=\"https://colab.research.google.com/assets/colab-badge.svg\" alt=\"Open In Colab\"/></a>"
      ]
    },
    {
      "cell_type": "markdown",
      "metadata": {
        "id": "HbYCL34IT8Wu"
      },
      "source": [
        "# **SF Crime Analysis**\n",
        "\n",
        "En este colab analizamos el dataset SF Crime Dataset"
      ]
    },
    {
      "cell_type": "markdown",
      "metadata": {
        "id": "JU3rF2TqUSzV"
      },
      "source": [
        "### Importar librerias"
      ]
    },
    {
      "cell_type": "code",
      "metadata": {
        "id": "4w2BfTZAUXiq"
      },
      "source": [
        "import os\n",
        "import pandas as pd\n",
        "import numpy as np\n",
        "import matplotlib.pyplot as plt"
      ],
      "execution_count": 1,
      "outputs": []
    },
    {
      "cell_type": "markdown",
      "metadata": {
        "id": "m1ludHVGUjhd"
      },
      "source": [
        "### Cargar dataset"
      ]
    },
    {
      "cell_type": "code",
      "metadata": {
        "id": "myMKLEirUl9E"
      },
      "source": [
        "sf_crime = pd.read_csv(\"https://raw.githubusercontent.com/viasmo1/edem_statistics_python/main/Police_Department_Incidents_-_Previous_Year__2016.csv\")\n",
        "sf_crime"
      ],
      "execution_count": null,
      "outputs": []
    }
  ]
}