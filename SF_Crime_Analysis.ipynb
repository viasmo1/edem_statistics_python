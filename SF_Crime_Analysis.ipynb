{
  "nbformat": 4,
  "nbformat_minor": 0,
  "metadata": {
    "colab": {
      "name": "SF Crime Analysis.ipynb",
      "provenance": [],
      "collapsed_sections": [],
      "include_colab_link": true
    },
    "kernelspec": {
      "name": "Python 3.8.3 64-bit ('base': conda)",
      "display_name": "Python 3.8.3 64-bit ('base': conda)",
      "metadata": {
        "interpreter": {
          "hash": "2a54a2701b7e9965d702cb58f6bdf61e5d02d804dbcbb84ef1224da2d89c57d4"
        }
      }
    }
  },
  "cells": [
    {
      "cell_type": "markdown",
      "metadata": {
        "id": "view-in-github",
        "colab_type": "text"
      },
      "source": [
        "<a href=\"https://colab.research.google.com/github/viasmo1/edem_statistics_python/blob/main/SF_Crime_Analysis.ipynb\" target=\"_parent\"><img src=\"https://colab.research.google.com/assets/colab-badge.svg\" alt=\"Open In Colab\"/></a>"
      ]
    },
    {
      "cell_type": "markdown",
      "metadata": {
        "id": "HbYCL34IT8Wu"
      },
      "source": [
        "# **SF Crime Analysis**\n",
        "\n",
        "En este colab analizamos el dataset SF Crime Dataset."
      ]
    },
    {
      "cell_type": "markdown",
      "metadata": {
        "id": "FhMKsRSAdmkd"
      },
      "source": [
        "### Descripción de la naturaleza y el origen del dataset\n",
        "\n",
        "Se trata de un dataset extraído de [kaggle.com](https://www.kaggle.com). Se puede acceder al mismo en este [link](https://www.kaggle.com/roshansharma/sanfranciso-crime-dataset)"
      ]
    },
    {
      "cell_type": "markdown",
      "metadata": {
        "id": "FdFth3MTdmke"
      },
      "source": [
        "## Análisis\n",
        "\n",
        "### Importar librerias"
      ]
    },
    {
      "cell_type": "code",
      "metadata": {
        "id": "4w2BfTZAUXiq"
      },
      "source": [
        "import os\n",
        "import pandas as pd\n",
        "import numpy as np\n",
        "import matplotlib.pyplot as plt"
      ],
      "execution_count": 1,
      "outputs": []
    },
    {
      "cell_type": "markdown",
      "metadata": {
        "id": "m1ludHVGUjhd"
      },
      "source": [
        "### Cargar dataset"
      ]
    },
    {
      "cell_type": "code",
      "metadata": {
        "id": "myMKLEirUl9E",
        "outputId": "636ebad9-4bad-419e-ed1c-befca6634b93",
        "colab": {
          "base_uri": "https://localhost:8080/",
          "height": 881
        }
      },
      "source": [
        "sf_crime = pd.read_csv(\"https://raw.githubusercontent.com/viasmo1/edem_statistics_python/main/Police_Department_Incidents_-_Previous_Year__2016.csv\")\n",
        "sf_crime"
      ],
      "execution_count": 2,
      "outputs": [
        {
          "output_type": "execute_result",
          "data": {
            "text/html": [
              "<div>\n",
              "<style scoped>\n",
              "    .dataframe tbody tr th:only-of-type {\n",
              "        vertical-align: middle;\n",
              "    }\n",
              "\n",
              "    .dataframe tbody tr th {\n",
              "        vertical-align: top;\n",
              "    }\n",
              "\n",
              "    .dataframe thead th {\n",
              "        text-align: right;\n",
              "    }\n",
              "</style>\n",
              "<table border=\"1\" class=\"dataframe\">\n",
              "  <thead>\n",
              "    <tr style=\"text-align: right;\">\n",
              "      <th></th>\n",
              "      <th>IncidntNum</th>\n",
              "      <th>Category</th>\n",
              "      <th>Descript</th>\n",
              "      <th>DayOfWeek</th>\n",
              "      <th>Date</th>\n",
              "      <th>Time</th>\n",
              "      <th>PdDistrict</th>\n",
              "      <th>Resolution</th>\n",
              "      <th>Address</th>\n",
              "      <th>X</th>\n",
              "      <th>Y</th>\n",
              "      <th>Location</th>\n",
              "      <th>PdId</th>\n",
              "    </tr>\n",
              "  </thead>\n",
              "  <tbody>\n",
              "    <tr>\n",
              "      <th>0</th>\n",
              "      <td>120058272</td>\n",
              "      <td>WEAPON LAWS</td>\n",
              "      <td>POSS OF PROHIBITED WEAPON</td>\n",
              "      <td>Friday</td>\n",
              "      <td>01/29/2016 12:00:00 AM</td>\n",
              "      <td>11:00</td>\n",
              "      <td>SOUTHERN</td>\n",
              "      <td>ARREST, BOOKED</td>\n",
              "      <td>800 Block of BRYANT ST</td>\n",
              "      <td>-122.403405</td>\n",
              "      <td>37.775421</td>\n",
              "      <td>(37.775420706711, -122.403404791479)</td>\n",
              "      <td>12005827212120</td>\n",
              "    </tr>\n",
              "    <tr>\n",
              "      <th>1</th>\n",
              "      <td>120058272</td>\n",
              "      <td>WEAPON LAWS</td>\n",
              "      <td>FIREARM, LOADED, IN VEHICLE, POSSESSION OR USE</td>\n",
              "      <td>Friday</td>\n",
              "      <td>01/29/2016 12:00:00 AM</td>\n",
              "      <td>11:00</td>\n",
              "      <td>SOUTHERN</td>\n",
              "      <td>ARREST, BOOKED</td>\n",
              "      <td>800 Block of BRYANT ST</td>\n",
              "      <td>-122.403405</td>\n",
              "      <td>37.775421</td>\n",
              "      <td>(37.775420706711, -122.403404791479)</td>\n",
              "      <td>12005827212168</td>\n",
              "    </tr>\n",
              "    <tr>\n",
              "      <th>2</th>\n",
              "      <td>141059263</td>\n",
              "      <td>WARRANTS</td>\n",
              "      <td>WARRANT ARREST</td>\n",
              "      <td>Monday</td>\n",
              "      <td>04/25/2016 12:00:00 AM</td>\n",
              "      <td>14:59</td>\n",
              "      <td>BAYVIEW</td>\n",
              "      <td>ARREST, BOOKED</td>\n",
              "      <td>KEITH ST / SHAFTER AV</td>\n",
              "      <td>-122.388856</td>\n",
              "      <td>37.729981</td>\n",
              "      <td>(37.7299809672996, -122.388856204292)</td>\n",
              "      <td>14105926363010</td>\n",
              "    </tr>\n",
              "    <tr>\n",
              "      <th>3</th>\n",
              "      <td>160013662</td>\n",
              "      <td>NON-CRIMINAL</td>\n",
              "      <td>LOST PROPERTY</td>\n",
              "      <td>Tuesday</td>\n",
              "      <td>01/05/2016 12:00:00 AM</td>\n",
              "      <td>23:50</td>\n",
              "      <td>TENDERLOIN</td>\n",
              "      <td>NONE</td>\n",
              "      <td>JONES ST / OFARRELL ST</td>\n",
              "      <td>-122.412971</td>\n",
              "      <td>37.785788</td>\n",
              "      <td>(37.7857883766888, -122.412970537591)</td>\n",
              "      <td>16001366271000</td>\n",
              "    </tr>\n",
              "    <tr>\n",
              "      <th>4</th>\n",
              "      <td>160002740</td>\n",
              "      <td>NON-CRIMINAL</td>\n",
              "      <td>LOST PROPERTY</td>\n",
              "      <td>Friday</td>\n",
              "      <td>01/01/2016 12:00:00 AM</td>\n",
              "      <td>00:30</td>\n",
              "      <td>MISSION</td>\n",
              "      <td>NONE</td>\n",
              "      <td>16TH ST / MISSION ST</td>\n",
              "      <td>-122.419672</td>\n",
              "      <td>37.765050</td>\n",
              "      <td>(37.7650501214668, -122.419671780296)</td>\n",
              "      <td>16000274071000</td>\n",
              "    </tr>\n",
              "    <tr>\n",
              "      <th>...</th>\n",
              "      <td>...</td>\n",
              "      <td>...</td>\n",
              "      <td>...</td>\n",
              "      <td>...</td>\n",
              "      <td>...</td>\n",
              "      <td>...</td>\n",
              "      <td>...</td>\n",
              "      <td>...</td>\n",
              "      <td>...</td>\n",
              "      <td>...</td>\n",
              "      <td>...</td>\n",
              "      <td>...</td>\n",
              "      <td>...</td>\n",
              "    </tr>\n",
              "    <tr>\n",
              "      <th>150495</th>\n",
              "      <td>161061000</td>\n",
              "      <td>ASSAULT</td>\n",
              "      <td>BATTERY</td>\n",
              "      <td>Friday</td>\n",
              "      <td>12/30/2016 12:00:00 AM</td>\n",
              "      <td>21:01</td>\n",
              "      <td>PARK</td>\n",
              "      <td>NONE</td>\n",
              "      <td>OAK ST / STANYAN ST</td>\n",
              "      <td>-122.453982</td>\n",
              "      <td>37.771428</td>\n",
              "      <td>(37.7714278595913, -122.453981622365)</td>\n",
              "      <td>16106100004134</td>\n",
              "    </tr>\n",
              "    <tr>\n",
              "      <th>150496</th>\n",
              "      <td>176000742</td>\n",
              "      <td>NON-CRIMINAL</td>\n",
              "      <td>LOST PROPERTY</td>\n",
              "      <td>Friday</td>\n",
              "      <td>12/30/2016 12:00:00 AM</td>\n",
              "      <td>08:00</td>\n",
              "      <td>CENTRAL</td>\n",
              "      <td>NONE</td>\n",
              "      <td>JACKSON ST / SANSOME ST</td>\n",
              "      <td>-122.401857</td>\n",
              "      <td>37.796626</td>\n",
              "      <td>(37.7966261239618, -122.401857374739)</td>\n",
              "      <td>17600074271000</td>\n",
              "    </tr>\n",
              "    <tr>\n",
              "      <th>150497</th>\n",
              "      <td>176000758</td>\n",
              "      <td>LARCENY/THEFT</td>\n",
              "      <td>PETTY THEFT OF PROPERTY</td>\n",
              "      <td>Thursday</td>\n",
              "      <td>12/29/2016 12:00:00 AM</td>\n",
              "      <td>20:00</td>\n",
              "      <td>CENTRAL</td>\n",
              "      <td>NONE</td>\n",
              "      <td>PINE ST / TAYLOR ST</td>\n",
              "      <td>-122.412269</td>\n",
              "      <td>37.790673</td>\n",
              "      <td>(37.7906727649886, -122.41226909106)</td>\n",
              "      <td>17600075806372</td>\n",
              "    </tr>\n",
              "    <tr>\n",
              "      <th>150498</th>\n",
              "      <td>176000764</td>\n",
              "      <td>LARCENY/THEFT</td>\n",
              "      <td>GRAND THEFT OF PROPERTY</td>\n",
              "      <td>Friday</td>\n",
              "      <td>12/30/2016 12:00:00 AM</td>\n",
              "      <td>10:00</td>\n",
              "      <td>CENTRAL</td>\n",
              "      <td>NONE</td>\n",
              "      <td>200 Block of STOCKTON ST</td>\n",
              "      <td>-122.406659</td>\n",
              "      <td>37.788275</td>\n",
              "      <td>(37.7882745285785, -122.406658711008)</td>\n",
              "      <td>17600076406374</td>\n",
              "    </tr>\n",
              "    <tr>\n",
              "      <th>150499</th>\n",
              "      <td>179002868</td>\n",
              "      <td>OTHER OFFENSES</td>\n",
              "      <td>FRAUDULENT GAME OR TRICK, OBTAINING MONEY OR P...</td>\n",
              "      <td>Friday</td>\n",
              "      <td>12/02/2016 12:00:00 AM</td>\n",
              "      <td>14:00</td>\n",
              "      <td>SOUTHERN</td>\n",
              "      <td>NONE</td>\n",
              "      <td>800 Block of BRYANT ST</td>\n",
              "      <td>-122.403405</td>\n",
              "      <td>37.775421</td>\n",
              "      <td>(37.775420706711, -122.403404791479)</td>\n",
              "      <td>17900286809024</td>\n",
              "    </tr>\n",
              "  </tbody>\n",
              "</table>\n",
              "<p>150500 rows × 13 columns</p>\n",
              "</div>"
            ],
            "text/plain": [
              "        IncidntNum  ...            PdId\n",
              "0        120058272  ...  12005827212120\n",
              "1        120058272  ...  12005827212168\n",
              "2        141059263  ...  14105926363010\n",
              "3        160013662  ...  16001366271000\n",
              "4        160002740  ...  16000274071000\n",
              "...            ...  ...             ...\n",
              "150495   161061000  ...  16106100004134\n",
              "150496   176000742  ...  17600074271000\n",
              "150497   176000758  ...  17600075806372\n",
              "150498   176000764  ...  17600076406374\n",
              "150499   179002868  ...  17900286809024\n",
              "\n",
              "[150500 rows x 13 columns]"
            ]
          },
          "metadata": {
            "tags": []
          },
          "execution_count": 2
        }
      ]
    },
    {
      "cell_type": "markdown",
      "metadata": {
        "id": "GKs110Pwdmks"
      },
      "source": [
        "#### Columns"
      ]
    },
    {
      "cell_type": "code",
      "metadata": {
        "id": "CDKUk8R0dmks",
        "outputId": "1920ffd9-06b9-4bec-842e-19bf3841f23f",
        "colab": {
          "base_uri": "https://localhost:8080/"
        }
      },
      "source": [
        "sf_crime.columns"
      ],
      "execution_count": 3,
      "outputs": [
        {
          "output_type": "execute_result",
          "data": {
            "text/plain": [
              "Index(['IncidntNum', 'Category', 'Descript', 'DayOfWeek', 'Date', 'Time',\n",
              "       'PdDistrict', 'Resolution', 'Address', 'X', 'Y', 'Location', 'PdId'],\n",
              "      dtype='object')"
            ]
          },
          "metadata": {
            "tags": []
          },
          "execution_count": 3
        }
      ]
    },
    {
      "cell_type": "markdown",
      "metadata": {
        "id": "W5ZeQaqheEeg"
      },
      "source": [
        "#### Shape, head, tail"
      ]
    },
    {
      "cell_type": "code",
      "metadata": {
        "id": "3nFLR3N0eKfV"
      },
      "source": [
        "sf_crime.shape"
      ],
      "execution_count": null,
      "outputs": []
    },
    {
      "cell_type": "code",
      "metadata": {
        "id": "ck9fM8nletNQ",
        "outputId": "3d7cbc8d-a0ca-4d9f-ce34-aaae2b6628f2",
        "colab": {
          "base_uri": "https://localhost:8080/",
          "height": 445
        }
      },
      "source": [
        "sf_crime.head(5)"
      ],
      "execution_count": 8,
      "outputs": [
        {
          "output_type": "execute_result",
          "data": {
            "text/html": [
              "<div>\n",
              "<style scoped>\n",
              "    .dataframe tbody tr th:only-of-type {\n",
              "        vertical-align: middle;\n",
              "    }\n",
              "\n",
              "    .dataframe tbody tr th {\n",
              "        vertical-align: top;\n",
              "    }\n",
              "\n",
              "    .dataframe thead th {\n",
              "        text-align: right;\n",
              "    }\n",
              "</style>\n",
              "<table border=\"1\" class=\"dataframe\">\n",
              "  <thead>\n",
              "    <tr style=\"text-align: right;\">\n",
              "      <th></th>\n",
              "      <th>IncidntNum</th>\n",
              "      <th>Category</th>\n",
              "      <th>Descript</th>\n",
              "      <th>DayOfWeek</th>\n",
              "      <th>Date</th>\n",
              "      <th>Time</th>\n",
              "      <th>PdDistrict</th>\n",
              "      <th>Resolution</th>\n",
              "      <th>Address</th>\n",
              "      <th>X</th>\n",
              "      <th>Y</th>\n",
              "      <th>Location</th>\n",
              "      <th>PdId</th>\n",
              "    </tr>\n",
              "  </thead>\n",
              "  <tbody>\n",
              "    <tr>\n",
              "      <th>0</th>\n",
              "      <td>120058272</td>\n",
              "      <td>WEAPON LAWS</td>\n",
              "      <td>POSS OF PROHIBITED WEAPON</td>\n",
              "      <td>Friday</td>\n",
              "      <td>01/29/2016 12:00:00 AM</td>\n",
              "      <td>11:00</td>\n",
              "      <td>SOUTHERN</td>\n",
              "      <td>ARREST, BOOKED</td>\n",
              "      <td>800 Block of BRYANT ST</td>\n",
              "      <td>-122.403405</td>\n",
              "      <td>37.775421</td>\n",
              "      <td>(37.775420706711, -122.403404791479)</td>\n",
              "      <td>12005827212120</td>\n",
              "    </tr>\n",
              "    <tr>\n",
              "      <th>1</th>\n",
              "      <td>120058272</td>\n",
              "      <td>WEAPON LAWS</td>\n",
              "      <td>FIREARM, LOADED, IN VEHICLE, POSSESSION OR USE</td>\n",
              "      <td>Friday</td>\n",
              "      <td>01/29/2016 12:00:00 AM</td>\n",
              "      <td>11:00</td>\n",
              "      <td>SOUTHERN</td>\n",
              "      <td>ARREST, BOOKED</td>\n",
              "      <td>800 Block of BRYANT ST</td>\n",
              "      <td>-122.403405</td>\n",
              "      <td>37.775421</td>\n",
              "      <td>(37.775420706711, -122.403404791479)</td>\n",
              "      <td>12005827212168</td>\n",
              "    </tr>\n",
              "    <tr>\n",
              "      <th>2</th>\n",
              "      <td>141059263</td>\n",
              "      <td>WARRANTS</td>\n",
              "      <td>WARRANT ARREST</td>\n",
              "      <td>Monday</td>\n",
              "      <td>04/25/2016 12:00:00 AM</td>\n",
              "      <td>14:59</td>\n",
              "      <td>BAYVIEW</td>\n",
              "      <td>ARREST, BOOKED</td>\n",
              "      <td>KEITH ST / SHAFTER AV</td>\n",
              "      <td>-122.388856</td>\n",
              "      <td>37.729981</td>\n",
              "      <td>(37.7299809672996, -122.388856204292)</td>\n",
              "      <td>14105926363010</td>\n",
              "    </tr>\n",
              "    <tr>\n",
              "      <th>3</th>\n",
              "      <td>160013662</td>\n",
              "      <td>NON-CRIMINAL</td>\n",
              "      <td>LOST PROPERTY</td>\n",
              "      <td>Tuesday</td>\n",
              "      <td>01/05/2016 12:00:00 AM</td>\n",
              "      <td>23:50</td>\n",
              "      <td>TENDERLOIN</td>\n",
              "      <td>NONE</td>\n",
              "      <td>JONES ST / OFARRELL ST</td>\n",
              "      <td>-122.412971</td>\n",
              "      <td>37.785788</td>\n",
              "      <td>(37.7857883766888, -122.412970537591)</td>\n",
              "      <td>16001366271000</td>\n",
              "    </tr>\n",
              "    <tr>\n",
              "      <th>4</th>\n",
              "      <td>160002740</td>\n",
              "      <td>NON-CRIMINAL</td>\n",
              "      <td>LOST PROPERTY</td>\n",
              "      <td>Friday</td>\n",
              "      <td>01/01/2016 12:00:00 AM</td>\n",
              "      <td>00:30</td>\n",
              "      <td>MISSION</td>\n",
              "      <td>NONE</td>\n",
              "      <td>16TH ST / MISSION ST</td>\n",
              "      <td>-122.419672</td>\n",
              "      <td>37.765050</td>\n",
              "      <td>(37.7650501214668, -122.419671780296)</td>\n",
              "      <td>16000274071000</td>\n",
              "    </tr>\n",
              "  </tbody>\n",
              "</table>\n",
              "</div>"
            ],
            "text/plain": [
              "   IncidntNum  ...            PdId\n",
              "0   120058272  ...  12005827212120\n",
              "1   120058272  ...  12005827212168\n",
              "2   141059263  ...  14105926363010\n",
              "3   160013662  ...  16001366271000\n",
              "4   160002740  ...  16000274071000\n",
              "\n",
              "[5 rows x 13 columns]"
            ]
          },
          "metadata": {
            "tags": []
          },
          "execution_count": 8
        }
      ]
    },
    {
      "cell_type": "code",
      "metadata": {
        "id": "Y2jvNodhetW8",
        "outputId": "0ccd2fb8-b498-4436-c700-8371ee649810",
        "colab": {
          "base_uri": "https://localhost:8080/",
          "height": 462
        }
      },
      "source": [
        "sf_crime.tail(5)"
      ],
      "execution_count": 9,
      "outputs": [
        {
          "output_type": "execute_result",
          "data": {
            "text/html": [
              "<div>\n",
              "<style scoped>\n",
              "    .dataframe tbody tr th:only-of-type {\n",
              "        vertical-align: middle;\n",
              "    }\n",
              "\n",
              "    .dataframe tbody tr th {\n",
              "        vertical-align: top;\n",
              "    }\n",
              "\n",
              "    .dataframe thead th {\n",
              "        text-align: right;\n",
              "    }\n",
              "</style>\n",
              "<table border=\"1\" class=\"dataframe\">\n",
              "  <thead>\n",
              "    <tr style=\"text-align: right;\">\n",
              "      <th></th>\n",
              "      <th>IncidntNum</th>\n",
              "      <th>Category</th>\n",
              "      <th>Descript</th>\n",
              "      <th>DayOfWeek</th>\n",
              "      <th>Date</th>\n",
              "      <th>Time</th>\n",
              "      <th>PdDistrict</th>\n",
              "      <th>Resolution</th>\n",
              "      <th>Address</th>\n",
              "      <th>X</th>\n",
              "      <th>Y</th>\n",
              "      <th>Location</th>\n",
              "      <th>PdId</th>\n",
              "    </tr>\n",
              "  </thead>\n",
              "  <tbody>\n",
              "    <tr>\n",
              "      <th>150495</th>\n",
              "      <td>161061000</td>\n",
              "      <td>ASSAULT</td>\n",
              "      <td>BATTERY</td>\n",
              "      <td>Friday</td>\n",
              "      <td>12/30/2016 12:00:00 AM</td>\n",
              "      <td>21:01</td>\n",
              "      <td>PARK</td>\n",
              "      <td>NONE</td>\n",
              "      <td>OAK ST / STANYAN ST</td>\n",
              "      <td>-122.453982</td>\n",
              "      <td>37.771428</td>\n",
              "      <td>(37.7714278595913, -122.453981622365)</td>\n",
              "      <td>16106100004134</td>\n",
              "    </tr>\n",
              "    <tr>\n",
              "      <th>150496</th>\n",
              "      <td>176000742</td>\n",
              "      <td>NON-CRIMINAL</td>\n",
              "      <td>LOST PROPERTY</td>\n",
              "      <td>Friday</td>\n",
              "      <td>12/30/2016 12:00:00 AM</td>\n",
              "      <td>08:00</td>\n",
              "      <td>CENTRAL</td>\n",
              "      <td>NONE</td>\n",
              "      <td>JACKSON ST / SANSOME ST</td>\n",
              "      <td>-122.401857</td>\n",
              "      <td>37.796626</td>\n",
              "      <td>(37.7966261239618, -122.401857374739)</td>\n",
              "      <td>17600074271000</td>\n",
              "    </tr>\n",
              "    <tr>\n",
              "      <th>150497</th>\n",
              "      <td>176000758</td>\n",
              "      <td>LARCENY/THEFT</td>\n",
              "      <td>PETTY THEFT OF PROPERTY</td>\n",
              "      <td>Thursday</td>\n",
              "      <td>12/29/2016 12:00:00 AM</td>\n",
              "      <td>20:00</td>\n",
              "      <td>CENTRAL</td>\n",
              "      <td>NONE</td>\n",
              "      <td>PINE ST / TAYLOR ST</td>\n",
              "      <td>-122.412269</td>\n",
              "      <td>37.790673</td>\n",
              "      <td>(37.7906727649886, -122.41226909106)</td>\n",
              "      <td>17600075806372</td>\n",
              "    </tr>\n",
              "    <tr>\n",
              "      <th>150498</th>\n",
              "      <td>176000764</td>\n",
              "      <td>LARCENY/THEFT</td>\n",
              "      <td>GRAND THEFT OF PROPERTY</td>\n",
              "      <td>Friday</td>\n",
              "      <td>12/30/2016 12:00:00 AM</td>\n",
              "      <td>10:00</td>\n",
              "      <td>CENTRAL</td>\n",
              "      <td>NONE</td>\n",
              "      <td>200 Block of STOCKTON ST</td>\n",
              "      <td>-122.406659</td>\n",
              "      <td>37.788275</td>\n",
              "      <td>(37.7882745285785, -122.406658711008)</td>\n",
              "      <td>17600076406374</td>\n",
              "    </tr>\n",
              "    <tr>\n",
              "      <th>150499</th>\n",
              "      <td>179002868</td>\n",
              "      <td>OTHER OFFENSES</td>\n",
              "      <td>FRAUDULENT GAME OR TRICK, OBTAINING MONEY OR P...</td>\n",
              "      <td>Friday</td>\n",
              "      <td>12/02/2016 12:00:00 AM</td>\n",
              "      <td>14:00</td>\n",
              "      <td>SOUTHERN</td>\n",
              "      <td>NONE</td>\n",
              "      <td>800 Block of BRYANT ST</td>\n",
              "      <td>-122.403405</td>\n",
              "      <td>37.775421</td>\n",
              "      <td>(37.775420706711, -122.403404791479)</td>\n",
              "      <td>17900286809024</td>\n",
              "    </tr>\n",
              "  </tbody>\n",
              "</table>\n",
              "</div>"
            ],
            "text/plain": [
              "        IncidntNum  ...            PdId\n",
              "150495   161061000  ...  16106100004134\n",
              "150496   176000742  ...  17600074271000\n",
              "150497   176000758  ...  17600075806372\n",
              "150498   176000764  ...  17600076406374\n",
              "150499   179002868  ...  17900286809024\n",
              "\n",
              "[5 rows x 13 columns]"
            ]
          },
          "metadata": {
            "tags": []
          },
          "execution_count": 9
        }
      ]
    }
  ]
}